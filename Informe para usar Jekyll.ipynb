{
 "cells": [
  {
   "attachments": {},
   "cell_type": "markdown",
   "metadata": {},
   "source": [
    "# Requicitos principales\n",
    "\n",
    "1. Instalar Jekyll\n",
    "\n",
    "- Puede usar el subsistema de Windows para Linux y seguir las instrucciones de Ubuntu si fuera necesario.\n",
    "\n",
    "2. Una cuenta de GitHub. En caso de no tener una, puede crear una cuenta gratuita"
   ]
  },
  {
   "attachments": {},
   "cell_type": "markdown",
   "metadata": {},
   "source": [
    "## Instalación de Jekyll, Ruby y DevKit\n",
    "\n",
    "1. Descargamos el instalador de la pagina oficial: https://rubyinstaller.org/downloads/\n",
    "\n",
    "- Ejecutamos el instalador de ruby \n",
    "\n",
    " + Aceptamos todo y finalizamos\n",
    "\n",
    " ![](imagenes/ruby.png)\n",
    "\n",
    "- A continuación se nos abrira una terminal en donde tendremos que escribir periodicamente los números 1, 2 y 3. Para que se ejecuten las tareas.\n",
    "\n",
    "![](imagenes/terminal.png)\n",
    "\n",
    "- + Verificamos la intalación de Ruby y su gestor de paquetes con ``Ruby -v `` y `` gem -v``\n",
    "\n",
    "2. Intalamos Jekyll con el siguiente comando ``gem install jekyll``\n",
    "\n",
    "![](imagenes/jekyll.png)\n",
    "\n",
    "- + Instalamos Bundler (Mnejador de dependencias) con el siguiente comando ``gem install bundler``\n",
    "\n",
    "![](imagenes/bundler.png)\n",
    "\n",
    "- Comprobamos la instalación de Jekyll y Bundler con los comandos ``jekyll -v `` y `` bundler -v``\n",
    "\n",
    "![](imagenes/jekbun.png)"
   ]
  },
  {
   "attachments": {},
   "cell_type": "markdown",
   "metadata": {},
   "source": [
    "# Creación del repositorio con Jekyll\n",
    "\n",
    "1. Ingresamos a github y entramos al siguiente enlace: https://github.com/cotes2020/chirpy-starter/generate\n",
    "\n",
    "- + Digitamos nuestro nombre de usuario segido de ``.github.io``\n",
    "\n",
    "![](imagenes/repositorio.png)\n",
    "\n",
    "- + Consiguiente a ello se nor creara un repositorio con toda la estructura y dependencias\n",
    "\n",
    "![](imagenes/creado.png)\n",
    "\n",
    "- + Clonamos el repositorio anterior con ``git clone + la ruta ``  y lo abrimos en nuestro IDE de preferencia\n",
    "\n",
    "![](imagenes/cone.png)\n",
    "\n",
    "2. Ya podemos realizar la configuración de la interfaz, recomendación que ``Timezone: America/New_York``\n",
    "\n",
    "![](imagenes/code.png)\n",
    "\n",
    "- + Digitamos en la terminal ``Bundle `` para empaquetar las modificaciónes\n",
    "\n",
    "![](imagenes/empaqueto.png)\n",
    "\n",
    "3. Por ultimo para correr el proyecto en un servidor digitamos ``bundle exec jekyll serve``\n",
    "\n",
    "![](imagenes/ejecuto.png)\n",
    "\n",
    "- + Abrimos el purto 400 en nuestro navegador  http://127.0.0.1:4000/ y veremos nuestra pagina estatica\n",
    "\n",
    "![](imagenes/pagina.png)\n",
    "\n",
    "+ Para para el servidor oprimimos ``Ctrl-c``\n",
    "\n",
    "4. Comando para correr ne Linux ``bundle lock --add-platform x86_64-linux``\n",
    "\n",
    "![](imagenes/linux.png)"
   ]
  },
  {
   "attachments": {},
   "cell_type": "markdown",
   "metadata": {},
   "source": [
    "# Creando apartados en la web\n",
    "\n",
    "1. Nos dirigimos a la carpeta de ``_posts`` y creamos un archivo con la fecha seguido del nombre que elija más ``.md``\n",
    "\n",
    "![](imagenes/post.png)"
   ]
  }
 ],
 "metadata": {
  "language_info": {
   "name": "python"
  },
  "orig_nbformat": 4
 },
 "nbformat": 4,
 "nbformat_minor": 2
}
